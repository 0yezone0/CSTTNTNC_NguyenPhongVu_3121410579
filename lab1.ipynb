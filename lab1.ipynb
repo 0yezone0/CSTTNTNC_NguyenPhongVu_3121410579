{
  "cells": [
    {
      "cell_type": "markdown",
      "id": "0cfa247f-bf3f-4910-90dc-ae8ecb607964",
      "metadata": {
        "id": "0cfa247f-bf3f-4910-90dc-ae8ecb607964"
      },
      "source": [
        "# Buổi 4: Tìm kiếm trong không gian trạng thái"
      ]
    },
    {
      "cell_type": "markdown",
      "id": "48ace7ff-b7d1-4cf2-94da-a21d2d821112",
      "metadata": {
        "id": "48ace7ff-b7d1-4cf2-94da-a21d2d821112"
      },
      "source": [
        "### Bài 1. Biễu diễn đồ thị\n",
        "\n",
        "Cho đồ thị hàm số **G** (**V**, **E**) như bên dưới:\n",
        "\n",
        "![image](dothi.png)"
      ]
    },
    {
      "cell_type": "markdown",
      "id": "51164f9d-5d98-4361-b2c2-1fb23fd3704c",
      "metadata": {
        "id": "51164f9d-5d98-4361-b2c2-1fb23fd3704c"
      },
      "source": [
        "#### 1. Biễu diễn bằng danh sách / ma trận kề"
      ]
    },
    {
      "cell_type": "code",
      "execution_count": 20,
      "id": "8715cbf5-d144-479d-9bb3-eb0be736fa12",
      "metadata": {
        "id": "8715cbf5-d144-479d-9bb3-eb0be736fa12"
      },
      "outputs": [],
      "source": [
        "ADJ = {\n",
        "    'A': ['C', 'D', 'E', 'F'],\n",
        "    'B': [],\n",
        "    'C': ['H'],\n",
        "    'D': ['H', 'E'],\n",
        "    'E': ['K', 'I'],\n",
        "    'F': ['I', 'G'],\n",
        "    'G': [],\n",
        "    'H': ['K'],\n",
        "    'I': ['B','K'],\n",
        "    'K': ['B']\n",
        "}"
      ]
    },
    {
      "cell_type": "code",
      "execution_count": 21,
      "id": "44f952fc-0188-4215-823b-6efb1ba5622a",
      "metadata": {
        "id": "44f952fc-0188-4215-823b-6efb1ba5622a",
        "outputId": "6322fdc5-8a5e-4ce7-ea24-ff673544ec84",
        "colab": {
          "base_uri": "https://localhost:8080/"
        }
      },
      "outputs": [
        {
          "output_type": "stream",
          "name": "stdout",
          "text": [
            "{'A': ['C', 'D', 'E', 'F'],\n",
            " 'B': [],\n",
            " 'C': ['H'],\n",
            " 'D': ['H', 'E'],\n",
            " 'E': ['K', 'I'],\n",
            " 'F': ['I', 'G'],\n",
            " 'G': [],\n",
            " 'H': ['K'],\n",
            " 'I': ['B', 'K'],\n",
            " 'K': ['B']}\n"
          ]
        }
      ],
      "source": [
        "import pprint\n",
        "pprint.pprint(ADJ)"
      ]
    },
    {
      "cell_type": "markdown",
      "id": "c975f35c-f742-4ac2-be01-1fe53c94eadf",
      "metadata": {
        "id": "c975f35c-f742-4ac2-be01-1fe53c94eadf"
      },
      "source": [
        "#### 2. Thao tác duyệt đồ thị\n",
        "(a) Liệt kê các đỉnh trong đồ thị <br/>\n",
        "(b) Liệt kê tất cả các cạnh đồ thị hiển thị dạng danh sách kề <br/>\n",
        "(c) Cho hai đỉnh A, B. Hỏi hai đỉnh A, B có kề nhau không? <br/>\n",
        "(d) Cho một đỉnh A. Hỏi danh sách các đỉnh kề với A <br/>"
      ]
    },
    {
      "cell_type": "code",
      "execution_count": 22,
      "id": "d286c1a6-ef93-4581-9f7e-96ea10020985",
      "metadata": {
        "id": "d286c1a6-ef93-4581-9f7e-96ea10020985",
        "outputId": "fb2e5a9c-094f-46f4-814b-086d98f05d82",
        "colab": {
          "base_uri": "https://localhost:8080/"
        }
      },
      "outputs": [
        {
          "output_type": "stream",
          "name": "stdout",
          "text": [
            "2. Thao tác duyệt đồ thị\n"
          ]
        }
      ],
      "source": [
        "print(\"2. Thao tác duyệt đồ thị\")"
      ]
    },
    {
      "cell_type": "code",
      "execution_count": 23,
      "id": "5faa6543-247a-4903-ba2a-9c1595af4f41",
      "metadata": {
        "id": "5faa6543-247a-4903-ba2a-9c1595af4f41",
        "outputId": "0fe35372-edd1-41dd-e989-41856c593d3f",
        "colab": {
          "base_uri": "https://localhost:8080/"
        }
      },
      "outputs": [
        {
          "output_type": "stream",
          "name": "stdout",
          "text": [
            "(a) Liệt kê các đỉnh trong đồ thị\n",
            "Các đỉnh của đồ thị:  A B C D E F G H I K "
          ]
        }
      ],
      "source": [
        "print(\"(a) Liệt kê các đỉnh trong đồ thị\")\n",
        "print(\"Các đỉnh của đồ thị: \", end=\" \")\n",
        "# Liệt kê các đỉnh trong đồ thị\n",
        "for v in ADJ.keys():\n",
        "    print(v, end=\" \")\n"
      ]
    },
    {
      "cell_type": "code",
      "execution_count": 24,
      "id": "3df2151a-a327-4672-a7af-519084f4b044",
      "metadata": {
        "id": "3df2151a-a327-4672-a7af-519084f4b044",
        "outputId": "8de845a8-9dc8-4a3f-bdd1-4ebacb502925",
        "colab": {
          "base_uri": "https://localhost:8080/"
        }
      },
      "outputs": [
        {
          "output_type": "stream",
          "name": "stdout",
          "text": [
            "(b) Liệt kê tất cả các cạnh đồ thị hiển thị dạng danh sách kề\n",
            "Danh sách kề của đồ thị: \n",
            "Đỉnh A : C, D, E, F\n",
            "Đỉnh B :  \n",
            "Đỉnh C : H\n",
            "Đỉnh D : H, E\n",
            "Đỉnh E : K, I\n",
            "Đỉnh F : I, G\n",
            "Đỉnh G :  \n",
            "Đỉnh H : K\n",
            "Đỉnh I : B, K\n",
            "Đỉnh K : B\n"
          ]
        }
      ],
      "source": [
        "print(\"(b) Liệt kê tất cả các cạnh đồ thị hiển thị dạng danh sách kề\")\n",
        "print(\"Danh sách kề của đồ thị: \")\n",
        "\n",
        "def HienThiDoThi(G):\n",
        "    for v in G:\n",
        "        print(\"Đỉnh\", v, \":\", \", \".join(G[v]) if G[v] else \" \")\n",
        "\n",
        "HienThiDoThi(ADJ)\n"
      ]
    },
    {
      "cell_type": "code",
      "execution_count": 28,
      "id": "4077c30a-c7be-4a44-93de-9ed446a6a368",
      "metadata": {
        "id": "4077c30a-c7be-4a44-93de-9ed446a6a368",
        "outputId": "7ca40e27-36c7-4352-cb50-cfb78a56c31c",
        "colab": {
          "base_uri": "https://localhost:8080/"
        }
      },
      "outputs": [
        {
          "output_type": "stream",
          "name": "stdout",
          "text": [
            "(c) Cho hai đỉnh A, B. Hỏi hai đỉnh A, B có kề nhau không?\n"
          ]
        }
      ],
      "source": [
        "print(\"(c) Cho hai đỉnh A, B. Hỏi hai đỉnh A, B có kề nhau không?\")\n",
        "\n",
        "def LaKe(G, a, b):\n",
        "    \"\"\"\n",
        "    input: G, a, b\n",
        "    return:\n",
        "    + -1: đỉnh a hoặc b không tồn tại\n",
        "    +  0: đỉnh a, b tồn tại nhưng không kề nhau\n",
        "    +  1: đỉnh a, b kề nhau\n",
        "    \"\"\"\n",
        "    # kiểm tra tồn tại\n",
        "    if a not in G or b not in G:\n",
        "        return -1\n",
        "\n",
        "    # kiểm tra kề\n",
        "    if b in G[a]:\n",
        "        return 1\n",
        "    else:\n",
        "        return 0\n"
      ]
    },
    {
      "cell_type": "code",
      "execution_count": 29,
      "id": "0e90a761-8354-460a-a451-1cbb97b9b6b8",
      "metadata": {
        "id": "0e90a761-8354-460a-a451-1cbb97b9b6b8",
        "outputId": "7dbbe412-a7a8-4d0d-d008-9d6c37ea4cc9",
        "colab": {
          "base_uri": "https://localhost:8080/"
        }
      },
      "outputs": [
        {
          "output_type": "stream",
          "name": "stdout",
          "text": [
            "L ke R: -1\n",
            "A ke R: -1\n",
            "E ke D: 0\n",
            "D ke E: 1\n"
          ]
        }
      ],
      "source": [
        "a = \"L\"; b = \"R\"; print(f\"{a} ke {b}: {LaKe(ADJ, a, b)}\")\n",
        "a = \"A\"; b = \"R\"; print(f\"{a} ke {b}: {LaKe(ADJ, a, b)}\")\n",
        "a = \"E\"; b = \"D\"; print(f\"{a} ke {b}: {LaKe(ADJ, a, b)}\")\n",
        "a = \"D\"; b = \"E\"; print(f\"{a} ke {b}: {LaKe(ADJ, a, b)}\")"
      ]
    },
    {
      "cell_type": "code",
      "execution_count": 32,
      "id": "41048b4b-9311-470f-9c0f-2bcb5b062587",
      "metadata": {
        "id": "41048b4b-9311-470f-9c0f-2bcb5b062587",
        "outputId": "24637f25-843e-42c3-cfe6-3095987f4985",
        "colab": {
          "base_uri": "https://localhost:8080/"
        }
      },
      "outputs": [
        {
          "output_type": "stream",
          "name": "stdout",
          "text": [
            "(d) Cho một đỉnh A. Hỏi danh sách các đỉnh kề với A\n",
            "Danh sach ke voi dinh P: None\n",
            "Danh sach ke voi dinh A: ['C', 'D', 'E', 'F']\n",
            "Danh sach ke voi dinh B: []\n",
            "Danh sach ke voi dinh D: ['H', 'E']\n"
          ]
        }
      ],
      "source": [
        "print(\"(d) Cho một đỉnh A. Hỏi danh sách các đỉnh kề với A\")\n",
        "\n",
        "def LayKe(G, a):\n",
        "    \"\"\"\n",
        "    input: G, a\n",
        "    return:\n",
        "    + None: neu a khong ton tai\n",
        "    + []  : a khong ke voi bat ky dinh nao\n",
        "    + [x, y, ...]: mang cac dinh ke voi a\n",
        "    \"\"\"\n",
        "    if a not in G:      # không tồn tại đỉnh a\n",
        "        return None\n",
        "\n",
        "    return G[a]         # trả về list kề (có thể rỗng [])\n",
        "\n",
        "# Test\n",
        "a = \"P\"; print(f\"Danh sach ke voi dinh {a}: {LayKe(ADJ, a)}\")\n",
        "a = \"A\"; print(f\"Danh sach ke voi dinh {a}: {LayKe(ADJ, a)}\")\n",
        "a = \"B\"; print(f\"Danh sach ke voi dinh {a}: {LayKe(ADJ, a)}\")\n",
        "a = \"D\"; print(f\"Danh sach ke voi dinh {a}: {LayKe(ADJ, a)}\")"
      ]
    },
    {
      "cell_type": "markdown",
      "id": "465a8fdb-f10f-47a9-91ab-1b23598fda4f",
      "metadata": {
        "id": "465a8fdb-f10f-47a9-91ab-1b23598fda4f"
      },
      "source": [
        "#### 3. Đọc và lưu đồ thị\n",
        "**dske.txt**\n",
        "```\n",
        "10           # số đỉnh đồ thị\n",
        "A C E F D    # đỉnh A kề với C E F D\n",
        "B            # đỉnh B không kề với ai\n",
        "C H\n",
        "D E H\n",
        "E K I\n",
        "F I G\n",
        "G\n",
        "H K\n",
        "I K B\n",
        "K B\n",
        "```"
      ]
    },
    {
      "cell_type": "code",
      "execution_count": 33,
      "id": "a71b385f-d571-4d94-88f1-427527c23653",
      "metadata": {
        "id": "a71b385f-d571-4d94-88f1-427527c23653",
        "outputId": "9922e5d0-753d-4c1a-9285-42c1d69aaff4",
        "colab": {
          "base_uri": "https://localhost:8080/"
        }
      },
      "outputs": [
        {
          "output_type": "stream",
          "name": "stdout",
          "text": [
            "1. Lưu đồ thị xuống tập tin\n",
            "Luu do thi thanh cong xuong tap tin: dske1.txt\n",
            "10\n",
            "A C D E F\n",
            "B\n",
            "C H\n",
            "D H E\n",
            "E K I\n",
            "F I G\n",
            "G\n",
            "H K\n",
            "I B K\n",
            "K B\n"
          ]
        }
      ],
      "source": [
        "print(\"1. Lưu đồ thị xuống tập tin\")\n",
        "\n",
        "def LuuDoThi(G, file_path, verbose = True):\n",
        "    import os\n",
        "\n",
        "    \"\"\" CÁC BẠN LÀM BÀI Ở ĐÂY \"\"\"\n",
        "\n",
        "    # Tạo thư mục chứa file_path\n",
        "    file_dir = os.path.dirname(file_path)\n",
        "    if file_dir != \"\" and os.path.exists(file_path) == False:\n",
        "        os.makedirs(file_dir)\n",
        "        if verbose: print(f\"+ Tao thu muc: {file_dir}\")\n",
        "\n",
        "    # Lưu đồ thị\n",
        "    with open(file_path, \"wt\") as file:\n",
        "        # ghi số đỉnh\n",
        "        file.write(str(len(G)) + \"\\n\")\n",
        "        # ghi danh sách kề\n",
        "        for v in G:\n",
        "            line = v\n",
        "            if len(G[v]) > 0:\n",
        "                line += \" \" + \" \".join(G[v])\n",
        "            file.write(line + \"\\n\")\n",
        "\n",
        "        if verbose: print(f\"Luu do thi thanh cong xuong tap tin: {file_path}\")\n",
        "    pass\n",
        "\n",
        "LuuDoThi(ADJ, \"dske1.txt\", verbose = True)\n",
        "with open(\"dske1.txt\", \"rt\") as file:\n",
        "    lines = file.readlines()\n",
        "    for line in lines: print(line, end=\"\")"
      ]
    },
    {
      "cell_type": "code",
      "execution_count": 38,
      "id": "b30921dc-fb94-44a5-907f-0d66340757a0",
      "metadata": {
        "id": "b30921dc-fb94-44a5-907f-0d66340757a0",
        "outputId": "41bed049-26e5-4575-ddfd-139bb93456ed",
        "colab": {
          "base_uri": "https://localhost:8080/"
        }
      },
      "outputs": [
        {
          "output_type": "stream",
          "name": "stdout",
          "text": [
            "2. Đọc đồ thị từ tập tin\n",
            "{'A': ['C', 'D', 'E', 'F'],\n",
            " 'B': [],\n",
            " 'C': ['H'],\n",
            " 'D': ['H', 'E'],\n",
            " 'E': ['K', 'I'],\n",
            " 'F': ['I', 'G'],\n",
            " 'G': [],\n",
            " 'H': ['K'],\n",
            " 'I': ['B', 'K'],\n",
            " 'K': ['B']}\n"
          ]
        }
      ],
      "source": [
        "print(\"2. Đọc đồ thị từ tập tin\")\n",
        "import pprint\n",
        "\n",
        "def DocDoThi(file_path, verbose = True):\n",
        "    \"\"\"\n",
        "    return:\n",
        "    + None: doc that bai\n",
        "    + <>None: tra ve do thi\n",
        "    \"\"\"\n",
        "    import os\n",
        "\n",
        "    result = None\n",
        "    if os.path.exists(file_path) == False:\n",
        "        result = None\n",
        "    else:\n",
        "        G = {}\n",
        "        with open(file_path, \"rt\") as file:\n",
        "            n = int(file.readline())\n",
        "            for line in file:\n",
        "                parts = line.strip().split()\n",
        "                if len(parts) == 0:\n",
        "                    continue\n",
        "                v = parts[0]             # đỉnh\n",
        "                neighbors = parts[1:]    # các đỉnh kề\n",
        "                G[v] = neighbors\n",
        "\n",
        "            pass\n",
        "        result = G\n",
        "    return result\n",
        "\n",
        "G1 = DocDoThi(\"dske1.txt\", verbose = True)\n",
        "pprint.pprint(G1)"
      ]
    },
    {
      "cell_type": "markdown",
      "id": "8197f40f-69af-489d-80b5-124c91427db6",
      "metadata": {
        "id": "8197f40f-69af-489d-80b5-124c91427db6"
      },
      "source": [
        "### Bài 2. Tìm kiếm đường đi trên đồ thị"
      ]
    },
    {
      "cell_type": "markdown",
      "id": "43f12303-9ee9-4404-9ecb-f00a5f78e4ee",
      "metadata": {
        "id": "43f12303-9ee9-4404-9ecb-f00a5f78e4ee"
      },
      "source": [
        "#### 1. Tìm kiếm theo chiều rộng (BFS)"
      ]
    },
    {
      "cell_type": "code",
      "execution_count": 48,
      "id": "1910f300-4094-4d69-b009-a9d4ea0fb27b",
      "metadata": {
        "id": "1910f300-4094-4d69-b009-a9d4ea0fb27b"
      },
      "outputs": [],
      "source": [
        "import pprint\n",
        "\n",
        "def BFS(G, start, goal):\n",
        "    \"\"\"\n",
        "    return:\n",
        "    + path: dict cha của từng đỉnh (path[v] = u nghĩa là đi tới v từ u)\n",
        "    + None: nếu start hoặc goal không hợp lệ\n",
        "    \"\"\"\n",
        "    if G.get(start) is None or G.get(goal) is None:\n",
        "        return None\n",
        "\n",
        "    path = {start: None}   # lưu cha của mỗi node\n",
        "    s_open   = [start]     # hàng đợi (queue)\n",
        "    s_closed = []          # đã duyệt\n",
        "\n",
        "    while len(s_open) > 0:\n",
        "        u = s_open.pop(0)  # lấy node đầu queue\n",
        "        s_closed.append(u)\n",
        "\n",
        "        for v in G[u]:\n",
        "            if v not in path:     # chưa đi qua\n",
        "                path[v] = u\n",
        "                s_open.append(v)\n",
        "\n",
        "                # Nếu đã gặp goal thì có thể return luôn (tối ưu BFS)\n",
        "                if v == goal:\n",
        "                    return path\n",
        "\n",
        "    return path"
      ]
    },
    {
      "cell_type": "code",
      "execution_count": 49,
      "id": "ed7e6ed1-ae75-4183-8cb2-0e4eae606144",
      "metadata": {
        "id": "ed7e6ed1-ae75-4183-8cb2-0e4eae606144",
        "outputId": "9bdad02d-758d-43bc-e4b8-f888126d97f9",
        "colab": {
          "base_uri": "https://localhost:8080/"
        }
      },
      "outputs": [
        {
          "output_type": "stream",
          "name": "stdout",
          "text": [
            "{'A': None,\n",
            " 'B': 'K',\n",
            " 'C': 'A',\n",
            " 'D': 'A',\n",
            " 'E': 'A',\n",
            " 'F': 'A',\n",
            " 'G': 'F',\n",
            " 'H': 'C',\n",
            " 'I': 'E',\n",
            " 'K': 'E'}\n"
          ]
        }
      ],
      "source": [
        "path = BFS(ADJ, \"A\", \"B\")\n",
        "pprint.pprint(path)"
      ]
    },
    {
      "cell_type": "code",
      "execution_count": 50,
      "id": "cd05574f-d2fa-4f71-80b2-1f9c5b45f945",
      "metadata": {
        "id": "cd05574f-d2fa-4f71-80b2-1f9c5b45f945"
      },
      "outputs": [],
      "source": [
        "def find_path(path, start, goal):\n",
        "    \"\"\"\n",
        "    Cho mảng truy hồi đường (path),\n",
        "    tìm danh sách đỉnh đi từ start --> goal\n",
        "    \"\"\"\n",
        "    result = []\n",
        "\n",
        "    # Nếu không có thông tin hoặc goal không tồn tại trong path\n",
        "    if path is None or goal not in path:\n",
        "        return result\n",
        "\n",
        "    # Lần ngược từ goal về start\n",
        "    current = goal\n",
        "    while current is not None:\n",
        "        result.append(current)\n",
        "        current = path.get(current, None)\n",
        "\n",
        "    # Đang đi ngược, cần đảo lại để ra đúng thứ tự start -> goal\n",
        "    result.reverse()\n",
        "\n",
        "    # Nếu node đầu tiên không phải start thì không có đường đi\n",
        "    if len(result) == 0 or result[0] != start:\n",
        "        return []\n",
        "\n",
        "    return result"
      ]
    },
    {
      "cell_type": "code",
      "execution_count": 51,
      "id": "50a093aa-283b-4623-9428-a0631e37328b",
      "metadata": {
        "id": "50a093aa-283b-4623-9428-a0631e37328b",
        "outputId": "8e503e34-8ede-44ef-8c13-8a8bf420051e",
        "colab": {
          "base_uri": "https://localhost:8080/"
        }
      },
      "outputs": [
        {
          "output_type": "execute_result",
          "data": {
            "text/plain": [
              "['A', 'E', 'K', 'B']"
            ]
          },
          "metadata": {},
          "execution_count": 51
        }
      ],
      "source": [
        "find_path(path, 'A', 'B')"
      ]
    },
    {
      "cell_type": "markdown",
      "id": "16085819-733d-4f95-a32d-aa52c5e35a6e",
      "metadata": {
        "id": "16085819-733d-4f95-a32d-aa52c5e35a6e"
      },
      "source": [
        "#### 2. Tìm kiếm theo chiều rộng (DFS)"
      ]
    },
    {
      "cell_type": "code",
      "execution_count": 75,
      "id": "50ebc7cd-f093-4d06-852c-e6c903e27864",
      "metadata": {
        "id": "50ebc7cd-f093-4d06-852c-e6c903e27864"
      },
      "outputs": [],
      "source": [
        "import pprint\n",
        "\n",
        "def DFS(G, start, goal):\n",
        "    \"\"\"\n",
        "    return:\n",
        "    + dict path[a] = b nghĩa là muốn đi tới a thì phải qua b\n",
        "    + None: đỉnh start hoặc goal không hợp lệ\n",
        "    \"\"\"\n",
        "    if G.get(start) is None or G.get(goal) is None:\n",
        "        return None\n",
        "\n",
        "    path = {}          # path[v] = u (cha của v)\n",
        "    s_open   = []      # stack\n",
        "    s_closed = set()   # tập đã duyệt\n",
        "\n",
        "    # đưa start vào open\n",
        "    s_open.append(start)\n",
        "    path[start] = None\n",
        "\n",
        "    while len(s_open) > 0:\n",
        "        # lấy đỉnh cuối stack\n",
        "        current = s_open.pop()\n",
        "        if current in s_closed:\n",
        "            continue\n",
        "        s_closed.add(current)\n",
        "\n",
        "        # nếu đã tới goal thì dừng\n",
        "        if current == goal:\n",
        "            continue\n",
        "\n",
        "        # duyệt các đỉnh kề theo thứ tự thuận (không đảo ngược!)\n",
        "        for neighbor in G[current]:\n",
        "            if neighbor not in s_open and neighbor not in s_closed:\n",
        "                s_open.append(neighbor)\n",
        "                path[neighbor] = current\n",
        "\n",
        "    return path"
      ]
    },
    {
      "cell_type": "code",
      "execution_count": 76,
      "id": "8177518a-8ffc-4a29-be9c-90375367793a",
      "metadata": {
        "id": "8177518a-8ffc-4a29-be9c-90375367793a",
        "outputId": "8694f891-e79a-4454-caa6-93e982ec56b1",
        "colab": {
          "base_uri": "https://localhost:8080/"
        }
      },
      "outputs": [
        {
          "output_type": "stream",
          "name": "stdout",
          "text": [
            "{'A': None,\n",
            " 'B': 'I',\n",
            " 'C': 'A',\n",
            " 'D': 'A',\n",
            " 'E': 'A',\n",
            " 'F': 'A',\n",
            " 'G': 'F',\n",
            " 'H': 'D',\n",
            " 'I': 'F',\n",
            " 'K': 'I'}\n"
          ]
        }
      ],
      "source": [
        "path = DFS(ADJ, \"A\", \"B\")\n",
        "pprint.pprint(path)"
      ]
    },
    {
      "cell_type": "markdown",
      "id": "d037e84a-1f8c-4388-89f6-9b1e105140da",
      "metadata": {
        "id": "d037e84a-1f8c-4388-89f6-9b1e105140da"
      },
      "source": [
        "# Kết thúc"
      ]
    }
  ],
  "metadata": {
    "kernelspec": {
      "display_name": "Python 3",
      "language": "python",
      "name": "python3"
    },
    "language_info": {
      "codemirror_mode": {
        "name": "ipython",
        "version": 3
      },
      "file_extension": ".py",
      "mimetype": "text/x-python",
      "name": "python",
      "nbconvert_exporter": "python",
      "pygments_lexer": "ipython3",
      "version": "3.8.8"
    },
    "colab": {
      "provenance": []
    }
  },
  "nbformat": 4,
  "nbformat_minor": 5
}